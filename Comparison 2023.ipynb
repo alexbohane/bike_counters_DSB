{
 "cells": [
  {
   "cell_type": "code",
   "execution_count": 1,
   "id": "a628d5ac",
   "metadata": {},
   "outputs": [],
   "source": [
    "import numpy as np\n",
    "import pandas as pd\n",
    "import matplotlib.pyplot as plt"
   ]
  },
  {
   "cell_type": "code",
   "execution_count": 2,
   "id": "f939c7f7",
   "metadata": {},
   "outputs": [],
   "source": [
    "df_train = pd.read_parquet(\"data/train.parquet\")\n",
    "df_test = pd.read_parquet(\"data/test.parquet\")\n",
    "\n",
    "# Merge both datasets in order\n",
    "df_all = pd.concat([df_train, df_test])\n",
    "\n",
    "df_new = pd.read_csv('data/comptage-velo-donnees-compteurs.csv', sep=';')"
   ]
  },
  {
   "cell_type": "code",
   "execution_count": 3,
   "id": "85413003",
   "metadata": {},
   "outputs": [
    {
     "data": {
      "text/plain": [
       "Identifiant du compteur                       18194\n",
       "Nom du compteur                                   0\n",
       "Identifiant du site de comptage               18194\n",
       "Nom du site de comptage                       18194\n",
       "Comptage horaire                                  0\n",
       "Date et heure de comptage                         0\n",
       "Date d'installation du site de comptage       18194\n",
       "Lien vers photo du site de comptage           27595\n",
       "Coordonnées géographiques                     18194\n",
       "Identifiant technique compteur                33801\n",
       "ID Photos                                     27595\n",
       "test_lien_vers_photos_du_site_de_comptage_    27595\n",
       "id_photo_1                                    27595\n",
       "url_sites                                     18194\n",
       "type_dimage                                   27595\n",
       "mois_annee_comptage                               0\n",
       "dtype: int64"
      ]
     },
     "execution_count": 3,
     "metadata": {},
     "output_type": "execute_result"
    }
   ],
   "source": [
    "df_new.isna().sum()"
   ]
  },
  {
   "cell_type": "code",
   "execution_count": 4,
   "id": "6a67c877",
   "metadata": {},
   "outputs": [],
   "source": [
    "df_new.dropna(inplace=True)"
   ]
  },
  {
   "cell_type": "code",
   "execution_count": 5,
   "id": "dbd67fe6",
   "metadata": {},
   "outputs": [],
   "source": [
    "df_new = df_new.drop(columns=['Lien vers photo du site de comptage', 'ID Photos', \n",
    "                              'test_lien_vers_photos_du_site_de_comptage_', 'id_photo_1',\n",
    "                              'url_sites', 'type_dimage', 'Coordonnées géographiques',\n",
    "                              'Date d\\'installation du site de comptage'])"
   ]
  },
  {
   "cell_type": "code",
   "execution_count": 6,
   "id": "0c30a84d",
   "metadata": {},
   "outputs": [
    {
     "data": {
      "text/plain": [
       "Identifiant du compteur             101\n",
       "Nom du compteur                     101\n",
       "Identifiant du site de comptage      70\n",
       "Nom du site de comptage              66\n",
       "Comptage horaire                   1198\n",
       "Date et heure de comptage          9621\n",
       "Identifiant technique compteur       70\n",
       "mois_annee_comptage                  16\n",
       "dtype: int64"
      ]
     },
     "execution_count": 6,
     "metadata": {},
     "output_type": "execute_result"
    }
   ],
   "source": [
    "df_new.nunique()"
   ]
  },
  {
   "cell_type": "code",
   "execution_count": 7,
   "id": "8035cab7",
   "metadata": {},
   "outputs": [],
   "source": [
    "# check for only relevant counter\n",
    "# filter by relevant date\n",
    "# create plot and subtract average\n",
    "\n",
    "# log bike count is ln(1+x)"
   ]
  },
  {
   "cell_type": "code",
   "execution_count": 8,
   "id": "56107a87",
   "metadata": {},
   "outputs": [],
   "source": [
    "df_new.rename(columns={'Nom du compteur': 'counter_name', 'Identifiant du compteur': 'counter_id',\n",
    "                   'Nom du site de comptage': 'site_name',\n",
    "                  'Identifiant du site de comptage': 'site_id',\n",
    "                  'Comptage horaire': 'bike_count',\n",
    "                  'Date et heure de comptage': 'date',\n",
    "                  'Identifiant technique compteur': 'counter_technical_id'}, inplace=True)"
   ]
  },
  {
   "cell_type": "code",
   "execution_count": 9,
   "id": "966427b8",
   "metadata": {
    "scrolled": true
   },
   "outputs": [
    {
     "data": {
      "text/html": [
       "<div>\n",
       "<style scoped>\n",
       "    .dataframe tbody tr th:only-of-type {\n",
       "        vertical-align: middle;\n",
       "    }\n",
       "\n",
       "    .dataframe tbody tr th {\n",
       "        vertical-align: top;\n",
       "    }\n",
       "\n",
       "    .dataframe thead th {\n",
       "        text-align: right;\n",
       "    }\n",
       "</style>\n",
       "<table border=\"1\" class=\"dataframe\">\n",
       "  <thead>\n",
       "    <tr style=\"text-align: right;\">\n",
       "      <th></th>\n",
       "      <th>counter_id</th>\n",
       "      <th>counter_name</th>\n",
       "      <th>site_id</th>\n",
       "      <th>site_name</th>\n",
       "      <th>bike_count</th>\n",
       "      <th>date</th>\n",
       "      <th>counter_technical_id</th>\n",
       "      <th>mois_annee_comptage</th>\n",
       "    </tr>\n",
       "  </thead>\n",
       "  <tbody>\n",
       "    <tr>\n",
       "      <th>0</th>\n",
       "      <td>100003096-353242251</td>\n",
       "      <td>97 avenue Denfert Rochereau SO-NE</td>\n",
       "      <td>100003096.0</td>\n",
       "      <td>97 avenue Denfert Rochereau</td>\n",
       "      <td>3</td>\n",
       "      <td>2022-11-01T06:00:00+01:00</td>\n",
       "      <td>X2H20012081</td>\n",
       "      <td>2022-11</td>\n",
       "    </tr>\n",
       "    <tr>\n",
       "      <th>1</th>\n",
       "      <td>100003096-353242251</td>\n",
       "      <td>97 avenue Denfert Rochereau SO-NE</td>\n",
       "      <td>100003096.0</td>\n",
       "      <td>97 avenue Denfert Rochereau</td>\n",
       "      <td>2</td>\n",
       "      <td>2022-11-01T04:00:00+01:00</td>\n",
       "      <td>X2H20012081</td>\n",
       "      <td>2022-11</td>\n",
       "    </tr>\n",
       "    <tr>\n",
       "      <th>2</th>\n",
       "      <td>100003096-353242251</td>\n",
       "      <td>97 avenue Denfert Rochereau SO-NE</td>\n",
       "      <td>100003096.0</td>\n",
       "      <td>97 avenue Denfert Rochereau</td>\n",
       "      <td>5</td>\n",
       "      <td>2022-11-01T05:00:00+01:00</td>\n",
       "      <td>X2H20012081</td>\n",
       "      <td>2022-11</td>\n",
       "    </tr>\n",
       "    <tr>\n",
       "      <th>3</th>\n",
       "      <td>100003096-353242251</td>\n",
       "      <td>97 avenue Denfert Rochereau SO-NE</td>\n",
       "      <td>100003096.0</td>\n",
       "      <td>97 avenue Denfert Rochereau</td>\n",
       "      <td>8</td>\n",
       "      <td>2022-11-01T07:00:00+01:00</td>\n",
       "      <td>X2H20012081</td>\n",
       "      <td>2022-11</td>\n",
       "    </tr>\n",
       "    <tr>\n",
       "      <th>4</th>\n",
       "      <td>100003096-353242251</td>\n",
       "      <td>97 avenue Denfert Rochereau SO-NE</td>\n",
       "      <td>100003096.0</td>\n",
       "      <td>97 avenue Denfert Rochereau</td>\n",
       "      <td>60</td>\n",
       "      <td>2022-11-01T09:00:00+01:00</td>\n",
       "      <td>X2H20012081</td>\n",
       "      <td>2022-11</td>\n",
       "    </tr>\n",
       "  </tbody>\n",
       "</table>\n",
       "</div>"
      ],
      "text/plain": [
       "            counter_id                       counter_name      site_id  \\\n",
       "0  100003096-353242251  97 avenue Denfert Rochereau SO-NE  100003096.0   \n",
       "1  100003096-353242251  97 avenue Denfert Rochereau SO-NE  100003096.0   \n",
       "2  100003096-353242251  97 avenue Denfert Rochereau SO-NE  100003096.0   \n",
       "3  100003096-353242251  97 avenue Denfert Rochereau SO-NE  100003096.0   \n",
       "4  100003096-353242251  97 avenue Denfert Rochereau SO-NE  100003096.0   \n",
       "\n",
       "                     site_name  bike_count                       date  \\\n",
       "0  97 avenue Denfert Rochereau           3  2022-11-01T06:00:00+01:00   \n",
       "1  97 avenue Denfert Rochereau           2  2022-11-01T04:00:00+01:00   \n",
       "2  97 avenue Denfert Rochereau           5  2022-11-01T05:00:00+01:00   \n",
       "3  97 avenue Denfert Rochereau           8  2022-11-01T07:00:00+01:00   \n",
       "4  97 avenue Denfert Rochereau          60  2022-11-01T09:00:00+01:00   \n",
       "\n",
       "  counter_technical_id mois_annee_comptage  \n",
       "0          X2H20012081             2022-11  \n",
       "1          X2H20012081             2022-11  \n",
       "2          X2H20012081             2022-11  \n",
       "3          X2H20012081             2022-11  \n",
       "4          X2H20012081             2022-11  "
      ]
     },
     "execution_count": 9,
     "metadata": {},
     "output_type": "execute_result"
    }
   ],
   "source": [
    "df_new.head()"
   ]
  },
  {
   "cell_type": "code",
   "execution_count": 10,
   "id": "2b0a13cc",
   "metadata": {},
   "outputs": [],
   "source": [
    "# Assuming df_new is your DataFrame and 'date' is your column name\n",
    "# Convert the 'date' column to datetime, coercing errors\n",
    "df_new['date'] = pd.to_datetime(df_new['date'], errors='coerce')\n",
    "\n",
    "# Drop rows where the date could not be converted\n",
    "df_new.dropna(subset=['date'], inplace=True)\n",
    "\n",
    "# Now format the datetime objects to strings in the 'yyyy-mm-dd hh:mm:ss' format\n",
    "# Only apply formatting to non-null datetime values\n",
    "df_new['date'] = df_new['date'].apply(lambda x: x.strftime('%Y-%m-%d %H:%M:%S') if pd.notnull(x) else x)\n"
   ]
  },
  {
   "cell_type": "code",
   "execution_count": 11,
   "id": "4ddce355",
   "metadata": {},
   "outputs": [
    {
     "data": {
      "text/plain": [
       "counter_id              0\n",
       "counter_name            0\n",
       "site_id                 0\n",
       "site_name               0\n",
       "bike_count              0\n",
       "date                    0\n",
       "counter_technical_id    0\n",
       "mois_annee_comptage     0\n",
       "dtype: int64"
      ]
     },
     "execution_count": 11,
     "metadata": {},
     "output_type": "execute_result"
    }
   ],
   "source": [
    "df_new.isna().sum()"
   ]
  },
  {
   "cell_type": "code",
   "execution_count": 12,
   "id": "7a26fae4",
   "metadata": {},
   "outputs": [
    {
     "name": "stdout",
     "output_type": "stream",
     "text": [
      "                                  counter_name\n",
      "site_name                                     \n",
      "10 avenue de la Grande Armée                 1\n",
      "10 boulevard Auguste Blanqui                 1\n",
      "102 boulevard de Magenta                     1\n",
      "106 avenue Denfert Rochereau                 1\n",
      "129 rue Lecourbe                             1\n",
      "...                                        ...\n",
      "Totem 64 Rue de Rivoli                       2\n",
      "Totem 73 boulevard de Sébastopol             2\n",
      "Totem 85 quai d'Austerlitz                   2\n",
      "Totem Cours la Reine                         2\n",
      "Voie Georges Pompidou                        2\n",
      "\n",
      "[66 rows x 1 columns]\n",
      "Total unique counter names: 101\n"
     ]
    }
   ],
   "source": [
    "df_all_site_names_sorted = df_new.groupby('site_name')['counter_name'].nunique()\n",
    "print(df_all_site_names_sorted.to_frame())\n",
    "print(f\"Total unique counter names: {df_all_site_names_sorted.sum()}\")"
   ]
  },
  {
   "cell_type": "code",
   "execution_count": 13,
   "id": "5e6d5c67",
   "metadata": {},
   "outputs": [],
   "source": [
    "# Updated list of site names to keep\n",
    "counters_to_keep = [\n",
    "    \"152 boulevard du Montparnasse E-O\", \"152 boulevard du Montparnasse O-E\",\n",
    "    \"18 quai de l'Hôtel de Ville NO-SE\", \"18 quai de l'Hôtel de Ville SE-NO\",\n",
    "    \"20 Avenue de Clichy NO-SE\", \"20 Avenue de Clichy SE-NO\",\n",
    "    \"254 rue de Vaugirard NE-SO\", \"254 rue de Vaugirard SO-NE\",\n",
    "    \"27 quai de la Tournelle NO-SE\", \"27 quai de la Tournelle SE-NO\",\n",
    "    \"28 boulevard Diderot E-O\", \"28 boulevard Diderot O-E\",\n",
    "    \"36 quai de Grenelle NE-SO\", \"36 quai de Grenelle SO-NE\",\n",
    "    \"38 rue Turbigo NE-SO\", \"38 rue Turbigo SO-NE\",\n",
    "    \"39 quai François Mauriac NO-SE\", \"39 quai François Mauriac SE-NO\",\n",
    "    \"6 rue Julia Bartet NE-SO\", \"6 rue Julia Bartet SO-NE\",\n",
    "    \"67 boulevard Voltaire SE-NO\", \"90 Rue De Sèvres NE-SO\", \n",
    "    \"90 Rue De Sèvres SO-NE\", \"Face 104 rue d'Aubervilliers N-S\",\n",
    "    \"Face 104 rue d'Aubervilliers S-N\", \"Face au 25 quai de l'Oise NE-SO\",\n",
    "    \"Face au 25 quai de l'Oise SO-NE\", \"Face au 4 avenue de la porte de Bagnolet E-O\",\n",
    "    \"Face au 4 avenue de la porte de Bagnolet O-E\", \"Face au 40 quai D'Issy NE-SO\",\n",
    "    \"Face au 40 quai D'Issy SO-NE\", \"Face au 48 quai de la marne NE-SO\",\n",
    "    \"Face au 48 quai de la marne SO-NE\", \"Face au 70 quai de Bercy N-S\",\n",
    "    \"Face au 70 quai de Bercy S-N\", \"Face au 8 avenue de la porte de Charenton NO-SE\",\n",
    "    \"Face au 8 avenue de la porte de Charenton SE-NO\", \"Pont Charles De Gaulle NE-SO\",\n",
    "    \"Pont Charles De Gaulle SO-NE\", \"Pont de Bercy NE-SO\",\n",
    "    \"Pont de Bercy SO-NE\", \"Pont de la Concorde S-N\",\n",
    "    \"Pont des Invalides N-S\", \"Pont des Invalides S-N\",\n",
    "    \"Quai d'Orsay E-O\", \"Quai d'Orsay O-E\", \n",
    "    \"Totem 64 Rue de Rivoli E-O\", \"Totem 64 Rue de Rivoli O-E\",\n",
    "    \"Totem 73 boulevard de Sébastopol N-S\", \"Totem 73 boulevard de Sébastopol S-N\",\n",
    "    \"Totem 85 quai d'Austerlitz NO-SE\", \"Totem 85 quai d'Austerlitz SE-NO\",\n",
    "    \"Totem Cours la Reine E-O\", \"Totem Cours la Reine O-E\",\n",
    "    \"Voie Georges Pompidou NE-SO\", \"Voie Georges Pompidou SO-NE\"\n",
    "]\n",
    "\n",
    "# Assuming df_new is your second DataFrame\n",
    "# Filter the DataFrame to only include rows with 'site_name' in the sites_to_keep list\n",
    "df_new = df_new[df_new['counter_name'].isin(counters_to_keep)]\n",
    "\n"
   ]
  },
  {
   "cell_type": "code",
   "execution_count": 14,
   "id": "6b125848",
   "metadata": {},
   "outputs": [
    {
     "data": {
      "text/plain": [
       "counter_id                50\n",
       "counter_name              50\n",
       "site_id                   27\n",
       "site_name                 26\n",
       "bike_count              1167\n",
       "date                    9620\n",
       "counter_technical_id      27\n",
       "mois_annee_comptage       15\n",
       "dtype: int64"
      ]
     },
     "execution_count": 14,
     "metadata": {},
     "output_type": "execute_result"
    }
   ],
   "source": [
    "df_new.nunique()"
   ]
  },
  {
   "cell_type": "code",
   "execution_count": 17,
   "id": "74540c07",
   "metadata": {},
   "outputs": [
    {
     "name": "stdout",
     "output_type": "stream",
     "text": [
      "<class 'pandas.core.frame.DataFrame'>\n",
      "Index: 473608 entries, 28407 to 777353\n",
      "Data columns (total 8 columns):\n",
      " #   Column                Non-Null Count   Dtype  \n",
      "---  ------                --------------   -----  \n",
      " 0   counter_id            473608 non-null  object \n",
      " 1   counter_name          473608 non-null  object \n",
      " 2   site_id               473608 non-null  float64\n",
      " 3   site_name             473608 non-null  object \n",
      " 4   bike_count            473608 non-null  int64  \n",
      " 5   date                  473608 non-null  object \n",
      " 6   counter_technical_id  473608 non-null  object \n",
      " 7   mois_annee_comptage   473608 non-null  object \n",
      "dtypes: float64(1), int64(1), object(6)\n",
      "memory usage: 32.5+ MB\n"
     ]
    }
   ],
   "source": [
    "df_new.info()"
   ]
  },
  {
   "cell_type": "markdown",
   "id": "307a1998",
   "metadata": {},
   "source": [
    "We have 50 of the 56 counter id's from the original dataset. Let's only use these for our analysis"
   ]
  },
  {
   "cell_type": "code",
   "execution_count": 27,
   "id": "41a8e3c0",
   "metadata": {},
   "outputs": [],
   "source": [
    "def _encode_dates(X):\n",
    "    X = X.copy()  # modify a copy of X\n",
    "    # Encode the date information from the DateOfDeparture columns\n",
    "    X.loc[:, \"year\"] = X[\"date\"].dt.year\n",
    "    X.loc[:, \"month\"] = X[\"date\"].dt.month\n",
    "    X.loc[:, \"day\"] = X[\"date\"].dt.day\n",
    "    X.loc[:, \"weekday\"] = X[\"date\"].dt.weekday\n",
    "    X.loc[:, \"hour\"] = X[\"date\"].dt.hour\n",
    "\n",
    "    # Finally we can drop the original columns from the dataframe\n",
    "    return X\n",
    "\n",
    "def _encode_dates_2022(X):\n",
    "    # Ensure to work on a copy of the DataFrame to avoid modifying the original\n",
    "    X = X.copy()\n",
    "\n",
    "    # Convert the 'date' column to datetime if it's not already\n",
    "    X['date'] = pd.to_datetime(X['date'])\n",
    "\n",
    "    # Extract year, month, day, and hour\n",
    "    X['year'] = X['date'].dt.year\n",
    "    X['month'] = X['date'].dt.month\n",
    "    X['day'] = X['date'].dt.day\n",
    "    X.loc[:, \"weekday\"] = X[\"date\"].dt.weekday\n",
    "    X['hour'] = X['date'].dt.hour\n",
    "    \n",
    "    not_april_2022 = ~((X['date'].dt.year == 2022) & (X['date'].dt.month == 4))\n",
    "\n",
    "    X = X[not_april_2022]\n",
    "\n",
    "    return X"
   ]
  },
  {
   "cell_type": "code",
   "execution_count": 28,
   "id": "584946c0",
   "metadata": {
    "scrolled": false
   },
   "outputs": [
    {
     "data": {
      "image/png": "[encoded data removed]",
      "text/plain": [
       "<Figure size 1000x600 with 1 Axes>"
      ]
     },
     "metadata": {},
     "output_type": "display_data"
    },
    {
     "name": "stdout",
     "output_type": "stream",
     "text": [
      "mois_annee_comptage\n",
      "2022-11     74.815279\n",
      "2022-12     47.870376\n",
      "2023-01     62.541129\n",
      "2023-02     69.777679\n",
      "2023-03     74.398681\n",
      "2023-04     71.039972\n",
      "2023-05     77.060054\n",
      "2023-06     99.033861\n",
      "2023-07     77.123306\n",
      "2023-08     54.420000\n",
      "2023-09    100.738667\n",
      "2023-10     95.873264\n",
      "2023-11     79.992047\n",
      "2023-12     68.210149\n",
      "Name: bike_count, dtype: float64\n"
     ]
    }
   ],
   "source": [
    "average_monthly_counts_2022 = df_new.groupby('mois_annee_comptage')['bike_count'].mean()\n",
    "\n",
    "df_new = _encode_dates_2022(df_new)\n",
    "\n",
    "# Plotting\n",
    "plt.figure(figsize=(10, 6))\n",
    "average_monthly_counts_2022.plot(kind='bar', color='skyblue')\n",
    "plt.title('Average Bike Count for Each Month Over Time 2022/2023')\n",
    "plt.xlabel('Month')\n",
    "plt.ylabel('Average Bike Count')\n",
    "plt.xticks(rotation=90)\n",
    "plt.grid()\n",
    "plt.show()\n",
    "\n",
    "print(average_monthly_counts_2022)"
   ]
  },
  {
   "cell_type": "markdown",
   "id": "52cd1b5b",
   "metadata": {},
   "source": [
    "From november to may there were some kind of covid restrictions in Paris"
   ]
  },
  {
   "cell_type": "code",
   "execution_count": 29,
   "id": "da8fe5dc",
   "metadata": {},
   "outputs": [
    {
     "data": {
      "image/png": "[encoded data removed]",
      "text/plain": [
       "<Figure size 1000x600 with 1 Axes>"
      ]
     },
     "metadata": {},
     "output_type": "display_data"
    },
    {
     "name": "stdout",
     "output_type": "stream",
     "text": [
      "year_month\n",
      "2020-09-01    96.754849\n",
      "2020-10-01    67.836075\n",
      "2020-11-01    45.040406\n",
      "2020-12-01    41.450187\n",
      "2021-01-01    43.272012\n",
      "2021-02-01    46.532878\n",
      "2021-03-01    59.943907\n",
      "2021-04-01    56.625967\n",
      "2021-05-01    57.442828\n",
      "2021-06-01    78.865799\n",
      "2021-07-01    65.425499\n",
      "2021-08-01    53.568689\n",
      "2021-09-01    95.769180\n",
      "Name: bike_count, dtype: float64\n"
     ]
    }
   ],
   "source": [
    "# Calculate the mean bike count for each day of the week\n",
    "\n",
    "\n",
    "\n",
    "\n",
    "# Create a 'year-month' column for chronological sorting\n",
    "df_fe['year_month'] = pd.to_datetime(df_fe['year'].astype(str) + '-' + df_fe['month'].astype(str))\n",
    "\n",
    "# Calculate the mean bike count for each 'year-month'\n",
    "average_monthly_counts_2020 = df_fe.groupby('year_month')['bike_count'].mean()\n",
    "\n",
    "# Plotting\n",
    "plt.figure(figsize=(10, 6))\n",
    "average_monthly_counts_2020.plot(kind='bar', color='skyblue')\n",
    "plt.title('Average Bike Count for Each Month Over Time 2020/2021')\n",
    "plt.xlabel('Month')\n",
    "plt.ylabel('Average Bike Count')\n",
    "plt.xticks(rotation=90)\n",
    "plt.grid()\n",
    "plt.show()\n",
    "\n",
    "print(average_monthly_counts_2020)"
   ]
  },
  {
   "cell_type": "code",
   "execution_count": 30,
   "id": "1e72c28c",
   "metadata": {},
   "outputs": [
    {
     "data": {
      "text/plain": [
       "<Figure size 1800x1200 with 0 Axes>"
      ]
     },
     "metadata": {},
     "output_type": "display_data"
    },
    {
     "data": {
      "image/png": "[encoded data removed]",
      "text/plain": [
       "<Figure size 640x480 with 1 Axes>"
      ]
     },
     "metadata": {},
     "output_type": "display_data"
    }
   ],
   "source": [
    "import pandas as pd\n",
    "import matplotlib.pyplot as plt\n",
    "\n",
    "# Manually entered data\n",
    "data_2020_2021 = {\n",
    "    '2020-09-01': 96.754849,\n",
    "    '2020-10-01': 67.836075,\n",
    "    '2020-11-01': 45.040406,\n",
    "    '2020-12-01': 41.450187,\n",
    "    '2021-01-01': 43.272012,\n",
    "    '2021-02-01': 46.532878,\n",
    "    '2021-03-01': 59.943907,\n",
    "    '2021-04-01': 56.625967,\n",
    "    '2021-05-01': 57.442828,\n",
    "    '2021-06-01': 78.865799,\n",
    "    '2021-07-01': 65.425499,\n",
    "    '2021-08-01': 53.568689,\n",
    "    '2021-09-01': 95.769180\n",
    "}\n",
    "\n",
    "data_2022_2023 = {\n",
    "    '2022-11-01': 74.815279,\n",
    "    '2022-12-01': 47.870376,\n",
    "    '2023-01-01': 62.541129,\n",
    "    '2023-02-01': 69.777679,\n",
    "    '2023-03-01': 74.398681,\n",
    "    '2023-04-01': 71.039972,\n",
    "    '2023-05-01': 77.060054,\n",
    "    '2023-06-01': 99.033861,\n",
    "    '2023-07-01': 77.123306,\n",
    "    '2023-08-01': 54.420000,\n",
    "    '2023-09-01': 100.738667,\n",
    "    '2023-10-01': 95.873264,\n",
    "    '2023-11-01': 79.992047,\n",
    "    '2023-12-01': 68.210149\n",
    "}\n",
    "\n",
    "# Convert to DataFrame\n",
    "df_2020_2021 = pd.DataFrame(list(data_2020_2021.items()), columns=['Date', 'Bike Count'])\n",
    "df_2022_2023 = pd.DataFrame(list(data_2022_2023.items()), columns=['Date', 'Bike Count'])\n",
    "\n",
    "# Convert 'Date' to datetime and extract month\n",
    "df_2020_2021['Date'] = pd.to_datetime(df_2020_2021['Date'])\n",
    "df_2022_2023['Date'] = pd.to_datetime(df_2022_2023['Date'])\n",
    "df_2020_2021['Month'] = df_2020_2021['Date'].dt.month\n",
    "df_2022_2023['Month'] = df_2022_2023['Date'].dt.month\n",
    "\n",
    "# Group by month and average\n",
    "avg_2020_2021 = df_2020_2021.groupby('Month')['Bike Count'].mean()\n",
    "avg_2022_2023 = df_2022_2023.groupby('Month')['Bike Count'].mean()\n",
    "\n",
    "# Combine data for plotting\n",
    "combined_data = pd.DataFrame({'2020/2021': avg_2020_2021, '2022/2023': avg_2022_2023})\n",
    "\n",
    "# Plot\n",
    "plt.figure(figsize=(18, 12))\n",
    "combined_data.plot(kind='bar', color=['skyblue', 'lightgreen'])\n",
    "plt.title('Average Bike Count Comparison by Month (2020/2021 vs. 2022/2023)')\n",
    "plt.xlabel('Month')\n",
    "plt.ylabel('Average Bike Count')\n",
    "plt.xticks(ticks=range(0, 12), labels=['Jan', 'Feb', 'Mar', 'Apr', 'May', 'Jun', 'Jul', 'Aug', 'Sep', 'Oct', 'Nov', 'Dec'], rotation=0)\n",
    "plt.grid()\n",
    "plt.legend()\n",
    "plt.show()\n",
    "combined_data['ratio'] = combined_data['2022/2023']/ combined_data['2020/2021']\n",
    "\n"
   ]
  },
  {
   "cell_type": "code",
   "execution_count": 31,
   "id": "2346b14c",
   "metadata": {},
   "outputs": [
    {
     "data": {
      "text/html": [
       "<div>\n",
       "<style scoped>\n",
       "    .dataframe tbody tr th:only-of-type {\n",
       "        vertical-align: middle;\n",
       "    }\n",
       "\n",
       "    .dataframe tbody tr th {\n",
       "        vertical-align: top;\n",
       "    }\n",
       "\n",
       "    .dataframe thead th {\n",
       "        text-align: right;\n",
       "    }\n",
       "</style>\n",
       "<table border=\"1\" class=\"dataframe\">\n",
       "  <thead>\n",
       "    <tr style=\"text-align: right;\">\n",
       "      <th></th>\n",
       "      <th>2020/2021</th>\n",
       "      <th>2022/2023</th>\n",
       "      <th>ratio</th>\n",
       "      <th>COVID Restrictions</th>\n",
       "    </tr>\n",
       "    <tr>\n",
       "      <th>Month</th>\n",
       "      <th></th>\n",
       "      <th></th>\n",
       "      <th></th>\n",
       "      <th></th>\n",
       "    </tr>\n",
       "  </thead>\n",
       "  <tbody>\n",
       "    <tr>\n",
       "      <th>1</th>\n",
       "      <td>43.272012</td>\n",
       "      <td>62.541129</td>\n",
       "      <td>1.445302</td>\n",
       "      <td>True</td>\n",
       "    </tr>\n",
       "    <tr>\n",
       "      <th>2</th>\n",
       "      <td>46.532878</td>\n",
       "      <td>69.777679</td>\n",
       "      <td>1.499535</td>\n",
       "      <td>True</td>\n",
       "    </tr>\n",
       "    <tr>\n",
       "      <th>3</th>\n",
       "      <td>59.943907</td>\n",
       "      <td>74.398681</td>\n",
       "      <td>1.241138</td>\n",
       "      <td>True</td>\n",
       "    </tr>\n",
       "    <tr>\n",
       "      <th>4</th>\n",
       "      <td>56.625967</td>\n",
       "      <td>71.039972</td>\n",
       "      <td>1.254548</td>\n",
       "      <td>True</td>\n",
       "    </tr>\n",
       "    <tr>\n",
       "      <th>5</th>\n",
       "      <td>57.442828</td>\n",
       "      <td>77.060054</td>\n",
       "      <td>1.341509</td>\n",
       "      <td>True</td>\n",
       "    </tr>\n",
       "    <tr>\n",
       "      <th>6</th>\n",
       "      <td>78.865799</td>\n",
       "      <td>99.033861</td>\n",
       "      <td>1.255726</td>\n",
       "      <td>True</td>\n",
       "    </tr>\n",
       "    <tr>\n",
       "      <th>7</th>\n",
       "      <td>65.425499</td>\n",
       "      <td>77.123306</td>\n",
       "      <td>1.178796</td>\n",
       "      <td>False</td>\n",
       "    </tr>\n",
       "    <tr>\n",
       "      <th>8</th>\n",
       "      <td>53.568689</td>\n",
       "      <td>54.420000</td>\n",
       "      <td>1.015892</td>\n",
       "      <td>False</td>\n",
       "    </tr>\n",
       "    <tr>\n",
       "      <th>9</th>\n",
       "      <td>96.262014</td>\n",
       "      <td>100.738667</td>\n",
       "      <td>1.046505</td>\n",
       "      <td>False</td>\n",
       "    </tr>\n",
       "    <tr>\n",
       "      <th>10</th>\n",
       "      <td>67.836075</td>\n",
       "      <td>95.873264</td>\n",
       "      <td>1.413308</td>\n",
       "      <td>True</td>\n",
       "    </tr>\n",
       "    <tr>\n",
       "      <th>11</th>\n",
       "      <td>45.040406</td>\n",
       "      <td>77.403663</td>\n",
       "      <td>1.718538</td>\n",
       "      <td>True</td>\n",
       "    </tr>\n",
       "    <tr>\n",
       "      <th>12</th>\n",
       "      <td>41.450187</td>\n",
       "      <td>58.040262</td>\n",
       "      <td>1.400241</td>\n",
       "      <td>True</td>\n",
       "    </tr>\n",
       "  </tbody>\n",
       "</table>\n",
       "</div>"
      ],
      "text/plain": [
       "       2020/2021   2022/2023     ratio  COVID Restrictions\n",
       "Month                                                     \n",
       "1      43.272012   62.541129  1.445302                True\n",
       "2      46.532878   69.777679  1.499535                True\n",
       "3      59.943907   74.398681  1.241138                True\n",
       "4      56.625967   71.039972  1.254548                True\n",
       "5      57.442828   77.060054  1.341509                True\n",
       "6      78.865799   99.033861  1.255726                True\n",
       "7      65.425499   77.123306  1.178796               False\n",
       "8      53.568689   54.420000  1.015892               False\n",
       "9      96.262014  100.738667  1.046505               False\n",
       "10     67.836075   95.873264  1.413308                True\n",
       "11     45.040406   77.403663  1.718538                True\n",
       "12     41.450187   58.040262  1.400241                True"
      ]
     },
     "execution_count": 31,
     "metadata": {},
     "output_type": "execute_result"
    }
   ],
   "source": [
    "covid_restriction_months = [10, 11, 12, 1, 2, 3, 4, 5, 6]\n",
    "\n",
    "# Add a COVID restriction column to the DataFrame\n",
    "combined_data['COVID Restrictions'] = combined_data.index.isin(covid_restriction_months)\n",
    "combined_data"
   ]
  },
  {
   "cell_type": "code",
   "execution_count": 32,
   "id": "5cb28cdf",
   "metadata": {},
   "outputs": [
    {
     "data": {
      "text/plain": [
       "(1.0790953770542338, 1.3785808820018268)"
      ]
     },
     "execution_count": 32,
     "metadata": {},
     "output_type": "execute_result"
    }
   ],
   "source": [
    "no_covid_months = combined_data[~combined_data['COVID Restrictions']]\n",
    "baseline_ratio = no_covid_months['2022/2023'].mean() / no_covid_months['2020/2021'].mean()\n",
    "\n",
    "# Calculating the COVID impact multiplier for months with COVID restrictions\n",
    "covid_months = combined_data[combined_data['COVID Restrictions']]\n",
    "covid_impact_multiplier = covid_months['2022/2023'].mean() / covid_months['2020/2021'].mean()\n",
    "\n",
    "baseline_ratio, covid_impact_multiplier"
   ]
  },
  {
   "cell_type": "markdown",
   "id": "13a83271",
   "metadata": {},
   "source": [
    "We have two multipliers:\n",
    "- Baseline of 8%: which suggests a general 8% increase in bike usage from 2020/2021 to 2022/2023 which could be due to more bike incentive measures in Paris or population growth or tendancy of people to want to use greener means of Paris\n",
    "- COVID months 38%: 38% increase represents the increase for a given month when COVID restrictions are lifted.\n",
    "\n",
    "We can do: 1.379/1.079 = 1.278 so about 27.8% which is the COVID impact on our 2020/2021 data. "
   ]
  },
  {
   "cell_type": "code",
   "execution_count": 33,
   "id": "6972685d",
   "metadata": {},
   "outputs": [],
   "source": [
    "df_new = _encode_dates_2022(df_new)\n",
    "df_fe = _encode_dates(df_all)"
   ]
  },
  {
   "cell_type": "code",
   "execution_count": 67,
   "id": "cfacb24a",
   "metadata": {
    "scrolled": true
   },
   "outputs": [
    {
     "name": "stdout",
     "output_type": "stream",
     "text": [
      "7\n"
     ]
    },
    {
     "data": {
      "text/plain": [
       "<matplotlib.lines.Line2D at 0x1579d3c90>"
      ]
     },
     "execution_count": 67,
     "metadata": {},
     "output_type": "execute_result"
    },
    {
     "data": {
      "image/png": "[encoded data removed]",
      "text/plain": [
       "<Figure size 640x480 with 1 Axes>"
      ]
     },
     "metadata": {},
     "output_type": "display_data"
    }
   ],
   "source": [
    "def average_bike_count_per_week(X):\n",
    "    X = X.copy()\n",
    "    # Ensure 'date' is a datetime object\n",
    "\n",
    "    # Extract the week of the year\n",
    "    X['week_of_year'] = X['date'].dt.isocalendar().day\n",
    "\n",
    "    # Combine weeks 52 and 53\n",
    "    #X['week_of_year'] = X['week_of_year'].apply(lambda x: 52 if x >= 52 else x)\n",
    "\n",
    "\n",
    "    # Calculate the average bike count per week\n",
    "    weekly_average = X.groupby('week_of_year')['bike_count'].mean()\n",
    "\n",
    "    return weekly_average\n",
    "\n",
    "# Example usage:\n",
    "# weekly_avg_bike_count = average_bike_count_per_week_combined(df)\n",
    "\n",
    "\n",
    "\n",
    "daily_avg_bike_count_2020 = average_bike_count_per_week(df_fe)\n",
    "daily_avg_bike_count_2022 = average_bike_count_per_week(df_new)\n",
    "\n",
    "ratio = daily_avg_bike_count_2022/daily_avg_bike_count_2020\n",
    "\n",
    "print(len(ratio))\n",
    "\n",
    "plt.plot(ratio)\n",
    "plt.axhline(y=1)"
   ]
  },
  {
   "cell_type": "code",
   "execution_count": 81,
   "id": "73760904",
   "metadata": {},
   "outputs": [],
   "source": [
    "def average_bike_count_per_day_of_year(X):\n",
    "    X = X.copy()\n",
    "    # Ensure 'date' is a datetime object\n",
    "    X['date'] = pd.to_datetime(X['date'])\n",
    "\n",
    "    X = X[~((X['date'].dt.month == 2) & (X['date'].dt.day == 29))]\n",
    "    # Get the day of the year\n",
    "    X['day_of_year'] = X['date'].dt.dayofyear\n",
    "\n",
    "    \n",
    "    \n",
    "    # Group by day of the year and calculate the mean\n",
    "    daily_average = X.groupby('day_of_year')['bike_count'].mean()\n",
    "\n",
    "    return daily_average\n",
    "\n",
    "# Example usage:\n",
    "# daily_avg_bike_count = average_bike_count_per_day_of_year(df)"
   ]
  },
  {
   "cell_type": "code",
   "execution_count": 82,
   "id": "5005cfd2",
   "metadata": {},
   "outputs": [
    {
     "name": "stdout",
     "output_type": "stream",
     "text": [
      "365\n"
     ]
    }
   ],
   "source": [
    "daily_avg_bike_count_2020 = average_bike_count_per_day_of_year(df_fe)"
   ]
  },
  {
   "cell_type": "code",
   "execution_count": 83,
   "id": "c16bba58",
   "metadata": {},
   "outputs": [],
   "source": [
    "daily_avg_bike_count_2022 = average_bike_count_per_day_of_year(df_new)"
   ]
  },
  {
   "cell_type": "code",
   "execution_count": 84,
   "id": "515017a1",
   "metadata": {},
   "outputs": [],
   "source": [
    "ratio = daily_avg_bike_count_2022 / daily_avg_bike_count_2020"
   ]
  },
  {
   "cell_type": "code",
   "execution_count": 85,
   "id": "162853d5",
   "metadata": {},
   "outputs": [
    {
     "data": {
      "text/plain": [
       "[<matplotlib.lines.Line2D at 0x15258ca50>]"
      ]
     },
     "execution_count": 85,
     "metadata": {},
     "output_type": "execute_result"
    },
    {
     "data": {
      "image/png": "[encoded data removed]",
      "text/plain": [
       "<Figure size 640x480 with 1 Axes>"
      ]
     },
     "metadata": {},
     "output_type": "display_data"
    }
   ],
   "source": [
    "plt.plot(ratio)\n",
    "plt.axhline(y=1)"
   ]
  },
  {
   "cell_type": "code",
   "execution_count": 86,
   "id": "da910e97",
   "metadata": {},
   "outputs": [
    {
     "data": {
      "text/plain": [
       "(Index([289, 303, 351, 93, 124, 171], dtype='int32'),\n",
       " Index([304, 350, 94, 123], dtype='int32'))"
      ]
     },
     "execution_count": 86,
     "metadata": {},
     "output_type": "execute_result"
    }
   ],
   "source": [
    "couvre_feu_dates = ['2020-10-15', '2020-10-29', '2020-12-16', '2021-04-03', '2021-05-04', '2021-06-20']\n",
    "confinement_dates = ['2020-10-30', '2020-12-15', '2021-04-04', '2021-05-03']\n",
    "\n",
    "# Convert to datetime and find the day of the year\n",
    "couvre_feu_days = pd.to_datetime(couvre_feu_dates).dayofyear\n",
    "confinement_days = pd.to_datetime(confinement_dates).dayofyear\n",
    "\n",
    "couvre_feu_days, confinement_days "
   ]
  },
  {
   "cell_type": "code",
   "execution_count": 96,
   "id": "786311da",
   "metadata": {},
   "outputs": [
    {
     "name": "stdout",
     "output_type": "stream",
     "text": [
      "1.2412894771165521\n",
      "1.1626808821756407\n",
      "1.2317360773326127\n"
     ]
    }
   ],
   "source": [
    "curfew_ratio = (np.mean(ratio[289:303]) + np.mean(ratio[351:365]) + np.mean(ratio[1:93]) + np.mean(ratio[124:171]))/4\n",
    "lockdown_ratio = (np.mean(ratio[304:350]) + np.mean(ratio[94:123]))/2\n",
    "baseline_ratio = np.mean(ratio[172:289])\n",
    "\n",
    "print(baseline_ratio)\n",
    "\n",
    "print(curfew_ratio/baseline_ratio)\n",
    "\n",
    "print(lockdown_ratio/baseline_ratio)\n"
   ]
  },
  {
   "cell_type": "code",
   "execution_count": null,
   "id": "5c0bd870",
   "metadata": {},
   "outputs": [],
   "source": []
  }
 ],
 "metadata": {
  "kernelspec": {
   "display_name": "Python 3 (ipykernel)",
   "language": "python",
   "name": "python3"
  },
  "language_info": {
   "codemirror_mode": {
    "name": "ipython",
    "version": 3
   },
   "file_extension": ".py",
   "mimetype": "text/x-python",
   "name": "python",
   "nbconvert_exporter": "python",
   "pygments_lexer": "ipython3",
   "version": "3.11.5"
  }
 },
 "nbformat": 4,
 "nbformat_minor": 5
}
